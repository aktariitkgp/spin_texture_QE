{
 "cells": [
  {
   "cell_type": "code",
   "execution_count": 1,
   "id": "4a1af277-52e2-44aa-afac-3f4a78c0e227",
   "metadata": {},
   "outputs": [
    {
     "name": "stdout",
     "output_type": "stream",
     "text": [
      "Data saved to band_data_fermi_subtracted_with_three_digit_prec.csv\n"
     ]
    }
   ],
   "source": [
    "# Define the file path and the Fermi energy value\n",
    "file_path = 'cu_111_slab_22l_paw_band.dat'\n",
    "fermi_energy = 10.448  # Replace with your Fermi energy value\n",
    "\n",
    "# Initialize a list to hold the data\n",
    "kx_ky_kz_nbnd_data = []\n",
    "\n",
    "# Open and read the contents of the file\n",
    "with open(file_path, 'r') as file:\n",
    "    file_contents = file.readlines()\n",
    "\n",
    "# Extract nbnd and nks values from the header (first line)\n",
    "header_line = file_contents[0]\n",
    "nbnd = int(header_line.split('nbnd=')[1].split(',')[0].strip())  # Number of nbnd values\n",
    "nks = int(header_line.split('nks=')[1].split('/')[0].strip())  # Number of k-points\n",
    "\n",
    "# Initialize an index to iterate through the file contents\n",
    "i = 1  # Skip the first line (header)\n",
    "\n",
    "# Iterate through the file, handling both coordinates and nbnd values\n",
    "while i < len(file_contents):\n",
    "    # Extract the kx, ky, kz coordinates (first 3 values on the current line)\n",
    "    current_line = list(map(float, file_contents[i].strip().split()))\n",
    "    \n",
    "    # Extract the kx, ky, kz\n",
    "    kx_ky_kz = current_line[:3]\n",
    "    \n",
    "    # Initialize an empty list to store the nbnd values\n",
    "    nbnd_values = current_line[3:]  # If the current line has additional nbnd values\n",
    "    \n",
    "    # Continue reading lines to gather all nbnd values if they span multiple lines\n",
    "    while len(nbnd_values) < nbnd:\n",
    "        i += 1\n",
    "        # Add more nbnd values from subsequent lines\n",
    "        nbnd_values.extend(list(map(float, file_contents[i].strip().split())))\n",
    "    \n",
    "    # Ensure we only keep the required number of nbnd values\n",
    "    nbnd_values = nbnd_values[:nbnd]\n",
    "    \n",
    "    # Subtract the Fermi energy from each nbnd value and round to 3 decimal places\n",
    "    nbnd_values = [round(value - fermi_energy, 3) for value in nbnd_values]\n",
    "    \n",
    "    # Append the kx, ky, kz coordinates followed by the adjusted nbnd values to the final data list\n",
    "    kx_ky_kz_nbnd_data.append(kx_ky_kz + nbnd_values)\n",
    "    \n",
    "    # Move to the next line that starts a new kx, ky, kz coordinate set\n",
    "    i += 1\n",
    "\n",
    "# Save the data to a CSV file\n",
    "import csv\n",
    "output_csv = 'band_data_fermi_subtracted_with_three_digit_prec.csv'\n",
    "with open(output_csv, 'w', newline='') as csvfile:\n",
    "    # Create a dynamic header based on the number of nbnd values\n",
    "    header = ['kx', 'ky', 'kz'] + [f'nbnd_{i+1}' for i in range(nbnd)]\n",
    "    \n",
    "    writer = csv.writer(csvfile)\n",
    "    writer.writerow(header)  # Write header\n",
    "    writer.writerows(kx_ky_kz_nbnd_data)  # Write data rows\n",
    "\n",
    "print(f\"Data saved to {output_csv}\")\n"
   ]
  },
  {
   "cell_type": "code",
   "execution_count": null,
   "id": "0c5d6d87-23ec-4179-a89a-54883eb157ef",
   "metadata": {},
   "outputs": [],
   "source": []
  }
 ],
 "metadata": {
  "kernelspec": {
   "display_name": "Python 3 (ipykernel)",
   "language": "python",
   "name": "python3"
  },
  "language_info": {
   "codemirror_mode": {
    "name": "ipython",
    "version": 3
   },
   "file_extension": ".py",
   "mimetype": "text/x-python",
   "name": "python",
   "nbconvert_exporter": "python",
   "pygments_lexer": "ipython3",
   "version": "3.10.13"
  }
 },
 "nbformat": 4,
 "nbformat_minor": 5
}
