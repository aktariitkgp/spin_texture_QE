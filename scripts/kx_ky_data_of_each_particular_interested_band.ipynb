{
 "cells": [
  {
   "cell_type": "code",
   "execution_count": 1,
   "id": "5cb9cea7-6c68-4ce0-bec3-8be32ddaacb5",
   "metadata": {},
   "outputs": [
    {
     "name": "stdout",
     "output_type": "stream",
     "text": [
      "Data saved to crossing_band_intersections.csv\n"
     ]
    }
   ],
   "source": [
    "import pandas as pd\n",
    "import numpy as np\n",
    "\n",
    "# Load the dataset\n",
    "file_path = 'crossing_bands_data.csv'\n",
    "df = pd.read_csv(file_path)\n",
    "\n",
    "# Extract the necessary columns\n",
    "kx = df['kx']\n",
    "ky = df['ky']\n",
    "\n",
    "# Define the target iso-energy level\n",
    "target_energy = 0.0  # Set this to the energy level you're interested in\n",
    "\n",
    "# Define a tolerance for detecting intersections\n",
    "tolerance = 1e-1  # Adjust this value based on the precision you require\n",
    "\n",
    "# Create a new DataFrame to store the crossing data\n",
    "crossing_data = pd.DataFrame()\n",
    "\n",
    "# Loop through all the columns for the bands (assuming band columns start from 'nbnd_')\n",
    "for col in df.columns:\n",
    "    if col.startswith('nbnd_'):\n",
    "        energy = df[col]\n",
    "        # Check if the band crosses the target energy by checking if min < target_energy < max\n",
    "        if energy.min() <= target_energy <= energy.max():\n",
    "            # Find the indices where the energy is within the tolerance of the target energy level\n",
    "            mask = (energy - target_energy).abs() <= tolerance\n",
    "            \n",
    "            # Store the crossing points\n",
    "            crossing_data[f'kx_{col}'] = kx[mask].reset_index(drop=True)\n",
    "            crossing_data[f'ky_{col}'] = ky[mask].reset_index(drop=True)\n",
    "            crossing_data[f'{col}_energy'] = energy[mask].reset_index(drop=True)\n",
    "\n",
    "# Save the crossing data to a CSV file\n",
    "output_file = 'crossing_band_intersections.csv'\n",
    "crossing_data.to_csv(output_file, index=False)\n",
    "\n",
    "print(f\"Data saved to {output_file}\")\n"
   ]
  },
  {
   "cell_type": "code",
   "execution_count": null,
   "id": "27c91ec8-ae86-40e4-932b-056f7b93d9fc",
   "metadata": {},
   "outputs": [],
   "source": []
  }
 ],
 "metadata": {
  "kernelspec": {
   "display_name": "Python 3 (ipykernel)",
   "language": "python",
   "name": "python3"
  },
  "language_info": {
   "codemirror_mode": {
    "name": "ipython",
    "version": 3
   },
   "file_extension": ".py",
   "mimetype": "text/x-python",
   "name": "python",
   "nbconvert_exporter": "python",
   "pygments_lexer": "ipython3",
   "version": "3.10.13"
  }
 },
 "nbformat": 4,
 "nbformat_minor": 5
}
