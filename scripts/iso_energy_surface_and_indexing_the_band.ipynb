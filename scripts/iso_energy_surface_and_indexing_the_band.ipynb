{
 "cells": [
  {
   "cell_type": "code",
   "execution_count": 1,
   "id": "cb5ebf2f-67a1-4100-8ce4-d0caa18ef842",
   "metadata": {},
   "outputs": [
    {
     "name": "stdout",
     "output_type": "stream",
     "text": [
      "Bands crossing the target energy (0.0): ['nbnd_429', 'nbnd_430', 'nbnd_431', 'nbnd_432', 'nbnd_433', 'nbnd_434', 'nbnd_435', 'nbnd_436', 'nbnd_437', 'nbnd_438', 'nbnd_439', 'nbnd_440', 'nbnd_441', 'nbnd_442']\n"
     ]
    }
   ],
   "source": [
    "import pandas as pd\n",
    "import numpy as np\n",
    "import plotly.graph_objects as go\n",
    "\n",
    "# Load the dataset\n",
    "file_path = 'band_data_fermi_subtracted_with_three_digit_prec.csv'\n",
    "df = pd.read_csv(file_path)\n",
    "\n",
    "# Extract the necessary columns\n",
    "kx = df['kx']\n",
    "ky = df['ky']\n",
    "kz = df['kz']  # Assuming you also have 'kz' values\n",
    "\n",
    "# Define the target iso-energy level\n",
    "target_energy = 0.0  # Set this to the energy level you're interested in\n",
    "\n",
    "# List to store bands that cross the target energy\n",
    "crossing_bands = []\n",
    "\n",
    "# Tolerance for finding iso-energy points\n",
    "tolerance = 1e-2  # Adjust based on how strict you want the matching to be\n",
    "\n",
    "# Loop through all the columns for the bands (assuming band columns start from 'nbnd_1')\n",
    "for col in df.columns:\n",
    "    if col.startswith('nbnd_'):\n",
    "        energy = df[col]\n",
    "        # Check if the band crosses the target energy by checking if min < target_energy < max\n",
    "        if energy.min() <= target_energy <= energy.max():\n",
    "            crossing_bands.append(col)\n",
    "\n",
    "# If no band crosses the target energy, print a message and stop\n",
    "if not crossing_bands:\n",
    "    print(f\"No bands cross the target energy of {target_energy}.\")\n",
    "else:\n",
    "    print(f\"Bands crossing the target energy ({target_energy}): {crossing_bands}\")\n",
    "\n",
    "    # Create a 3D surface plot for the crossing bands\n",
    "    fig = go.Figure()\n",
    "\n",
    "    # Loop through each crossing band and plot it\n",
    "    for band in crossing_bands:\n",
    "        # Interpolate the energy values to create a continuous surface\n",
    "        energy = df[band]\n",
    "        \n",
    "        # Create a mask for the points where energy crosses the target\n",
    "        iso_mask = np.abs(energy - target_energy) <= tolerance\n",
    "\n",
    "       \n"
   ]
  },
  {
   "cell_type": "code",
   "execution_count": null,
   "id": "2ce50795-8038-45d8-a30d-6645acfe065a",
   "metadata": {},
   "outputs": [],
   "source": []
  }
 ],
 "metadata": {
  "kernelspec": {
   "display_name": "Python 3 (ipykernel)",
   "language": "python",
   "name": "python3"
  },
  "language_info": {
   "codemirror_mode": {
    "name": "ipython",
    "version": 3
   },
   "file_extension": ".py",
   "mimetype": "text/x-python",
   "name": "python",
   "nbconvert_exporter": "python",
   "pygments_lexer": "ipython3",
   "version": "3.10.13"
  }
 },
 "nbformat": 4,
 "nbformat_minor": 5
}
