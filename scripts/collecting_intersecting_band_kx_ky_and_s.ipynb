{
 "cells": [
  {
   "cell_type": "code",
   "execution_count": 3,
   "id": "1ba9156b-5ec3-4d6d-8d3e-77d83b66c662",
   "metadata": {},
   "outputs": [
    {
     "name": "stdout",
     "output_type": "stream",
     "text": [
      "Data saved to kx_ky_intersecting_values_sz.csv\n"
     ]
    }
   ],
   "source": [
    "import pandas as pd\n",
    "\n",
    "# Load the dataset with the original band data\n",
    "original_file_path = 'sz_value_for selected_nband.csv'\n",
    "df_original = pd.read_csv(original_file_path)\n",
    "\n",
    "# Load the crossing band data\n",
    "crossing_file_path = 'crossing_band_intersections.csv'\n",
    "df_crossing = pd.read_csv(crossing_file_path)\n",
    "\n",
    "# Initialize a new DataFrame to store the results\n",
    "result_data = pd.DataFrame()\n",
    "\n",
    "# Iterate through the columns in the crossing data to search for corresponding energy values\n",
    "for col in df_crossing.columns:\n",
    "    if col.startswith('kx_'):\n",
    "        band_name = col.split('kx_')[-1]\n",
    "        ky_col = f'ky_{band_name}'\n",
    "\n",
    "        # Extract kx, ky values from the crossing data\n",
    "        kx_values = df_crossing[col]\n",
    "        ky_values = df_crossing[ky_col]\n",
    "\n",
    "        # Search for the corresponding energy values in the original dataset\n",
    "        energy_values = []\n",
    "        for kx, ky in zip(kx_values, ky_values):\n",
    "            # Find the matching row in the original dataset\n",
    "            match = df_original[(df_original['kx'] == kx) & (df_original['ky'] == ky)]\n",
    "            if not match.empty:\n",
    "                energy_values.append(match[band_name].values[0])\n",
    "            else:\n",
    "                energy_values.append(None)\n",
    "\n",
    "        # Add the kx, ky, and energy values to the result DataFrame\n",
    "        result_data[col] = kx_values\n",
    "        result_data[ky_col] = ky_values\n",
    "        result_data[band_name] = energy_values\n",
    "\n",
    "# Save the results to a new CSV file\n",
    "output_file = 'kx_ky_intersecting_values_sz.csv'\n",
    "result_data.to_csv(output_file, index=False)\n",
    "\n",
    "print(f\"Data saved to {output_file}\")\n"
   ]
  },
  {
   "cell_type": "code",
   "execution_count": null,
   "id": "1fc00fa9-e162-4ece-9a9f-dade3a6028d6",
   "metadata": {},
   "outputs": [],
   "source": []
  }
 ],
 "metadata": {
  "kernelspec": {
   "display_name": "Python 3 (ipykernel)",
   "language": "python",
   "name": "python3"
  },
  "language_info": {
   "codemirror_mode": {
    "name": "ipython",
    "version": 3
   },
   "file_extension": ".py",
   "mimetype": "text/x-python",
   "name": "python",
   "nbconvert_exporter": "python",
   "pygments_lexer": "ipython3",
   "version": "3.10.13"
  }
 },
 "nbformat": 4,
 "nbformat_minor": 5
}
