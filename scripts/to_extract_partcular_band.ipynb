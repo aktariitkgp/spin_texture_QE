{
 "cells": [
  {
   "cell_type": "code",
   "execution_count": 3,
   "id": "a60a0ddd-b0b9-48ff-99ec-06ebeacbc2c9",
   "metadata": {},
   "outputs": [
    {
     "name": "stdout",
     "output_type": "stream",
     "text": [
      "Selected columns written to sz_value_for selected_nband.csv\n"
     ]
    }
   ],
   "source": [
    "import pandas as pd\n",
    "\n",
    "# Read the CSV file\n",
    "input_file = 'cu_spin_sz.csv'\n",
    "df = pd.read_csv(input_file)\n",
    "\n",
    "# Specify the columns to extract\n",
    "columns_to_extract = ['kx', 'ky', 'nbnd_429', 'nbnd_430','nbnd_431','nbnd_432','nbnd_433','nbnd_434','nbnd_435','nbnd_436','nbnd_437','nbnd_438','nbnd_439','nbnd_440','nbnd_441','nbnd_442']\n",
    "\n",
    "# Extract the specified columns\n",
    "df_selected = df[columns_to_extract]\n",
    "\n",
    "# Write the selected columns to a new CSV file\n",
    "output_file = 'sz_value_for selected_nband.csv'\n",
    "df_selected.to_csv(output_file, index=False)\n",
    "\n",
    "print(f\"Selected columns written to {output_file}\")\n"
   ]
  },
  {
   "cell_type": "code",
   "execution_count": null,
   "id": "3b0dac5a-d32d-49f2-bf0e-348da0390387",
   "metadata": {},
   "outputs": [],
   "source": []
  }
 ],
 "metadata": {
  "kernelspec": {
   "display_name": "Python 3 (ipykernel)",
   "language": "python",
   "name": "python3"
  },
  "language_info": {
   "codemirror_mode": {
    "name": "ipython",
    "version": 3
   },
   "file_extension": ".py",
   "mimetype": "text/x-python",
   "name": "python",
   "nbconvert_exporter": "python",
   "pygments_lexer": "ipython3",
   "version": "3.10.13"
  }
 },
 "nbformat": 4,
 "nbformat_minor": 5
}
